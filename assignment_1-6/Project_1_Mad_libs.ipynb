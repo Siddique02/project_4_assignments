{
  "nbformat": 4,
  "nbformat_minor": 0,
  "metadata": {
    "colab": {
      "provenance": [],
      "authorship_tag": "ABX9TyMWosiq/YkOi8xncxDKfBvs",
      "include_colab_link": true
    },
    "kernelspec": {
      "name": "python3",
      "display_name": "Python 3"
    },
    "language_info": {
      "name": "python"
    }
  },
  "cells": [
    {
      "cell_type": "markdown",
      "metadata": {
        "id": "view-in-github",
        "colab_type": "text"
      },
      "source": [
        "<a href=\"https://colab.research.google.com/github/Siddique02/project_4_assignments/blob/main/assignment_1-6/Project_1_Mad_libs.ipynb\" target=\"_parent\"><img src=\"https://colab.research.google.com/assets/colab-badge.svg\" alt=\"Open In Colab\"/></a>"
      ]
    },
    {
      "cell_type": "code",
      "execution_count": 3,
      "metadata": {
        "colab": {
          "base_uri": "https://localhost:8080/"
        },
        "id": "kBhENqMA2KP0",
        "outputId": "3032eab3-796b-4a2b-80ed-55e6189e49c5"
      },
      "outputs": [
        {
          "output_type": "stream",
          "name": "stdout",
          "text": [
            "Enter an adjective: bouncy\n",
            "Enter an animal: elephant\n",
            "Enter an adjective: silly\n",
            "Enter a noun: ball\n",
            "Enter a verb: dance\n",
            "Enter an adjective: colorful\n",
            "Enter a noun: dragon\n",
            "The bouncy elephant jumped over the silly ball while dance on a colorful dragon.\n"
          ]
        }
      ],
      "source": [
        "def main():\n",
        "  adjective = input(\"Enter an adjective: \")\n",
        "  animal = input(\"Enter an animal: \")\n",
        "  adjective2 = input(\"Enter an adjective: \")\n",
        "  noun = input(\"Enter a noun: \")\n",
        "  verb = input(\"Enter a verb: \")\n",
        "  adjective3 = input(\"Enter an adjective: \")\n",
        "  noun2 = input(\"Enter a noun: \")\n",
        "\n",
        "  print(f\"The {adjective} {animal} jumped over the {adjective2} {noun} while {verb} on a {adjective3} {noun2}.\")\n",
        "\n",
        "\n",
        "\n",
        "if __name__ == \"__main__\":\n",
        "  main()"
      ]
    }
  ]
}