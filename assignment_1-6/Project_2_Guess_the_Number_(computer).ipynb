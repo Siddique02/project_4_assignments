{
  "nbformat": 4,
  "nbformat_minor": 0,
  "metadata": {
    "colab": {
      "provenance": [],
      "authorship_tag": "ABX9TyN/Zst+HfjQWkpBhQXZS+vH",
      "include_colab_link": true
    },
    "kernelspec": {
      "name": "python3",
      "display_name": "Python 3"
    },
    "language_info": {
      "name": "python"
    }
  },
  "cells": [
    {
      "cell_type": "markdown",
      "metadata": {
        "id": "view-in-github",
        "colab_type": "text"
      },
      "source": [
        "<a href=\"https://colab.research.google.com/github/Siddique02/project_4_assignments/blob/main/assignment_1-6/Project_2_Guess_the_Number_(computer).ipynb\" target=\"_parent\"><img src=\"https://colab.research.google.com/assets/colab-badge.svg\" alt=\"Open In Colab\"/></a>"
      ]
    },
    {
      "cell_type": "code",
      "execution_count": 1,
      "metadata": {
        "id": "Dg6Fz-cG6CUV"
      },
      "outputs": [],
      "source": [
        "import random"
      ]
    },
    {
      "cell_type": "code",
      "source": [
        "def guess(x):\n",
        "  secret_num = random.randint(1, x)\n",
        "  guess = 0\n",
        "  while guess != secret_num:\n",
        "    guess = int(input(f'Guess a number between 1 and {x}: '))\n",
        "\n",
        "    if guess < secret_num:\n",
        "      print('Sorry, guess again. Too low.')\n",
        "    elif guess > secret_num:\n",
        "      print('Sorry, guess again. Too high.')\n",
        "\n",
        "    print(f'Yay, congrats. You have guessed the number {secret_num} correctly!')\n",
        "\n",
        "def main():\n",
        "  range = int(input(\"Type a number to set the range: \"))\n",
        "  guess(range)\n",
        "\n",
        "\n",
        "if __name__ == '__main__':\n",
        "  main()"
      ],
      "metadata": {
        "colab": {
          "base_uri": "https://localhost:8080/"
        },
        "id": "0uUlqrXf6NFY",
        "outputId": "cd24dd80-d9ec-4865-ff65-95dbcd37f02f"
      },
      "execution_count": null,
      "outputs": [
        {
          "name": "stdout",
          "output_type": "stream",
          "text": [
            "Type a number to set the range: 50\n"
          ]
        }
      ]
    }
  ]
}