{
  "nbformat": 4,
  "nbformat_minor": 0,
  "metadata": {
    "colab": {
      "provenance": [],
      "authorship_tag": "ABX9TyMS36mTBiIvElQeq435O6gk",
      "include_colab_link": true
    },
    "kernelspec": {
      "name": "python3",
      "display_name": "Python 3"
    },
    "language_info": {
      "name": "python"
    }
  },
  "cells": [
    {
      "cell_type": "markdown",
      "metadata": {
        "id": "view-in-github",
        "colab_type": "text"
      },
      "source": [
        "<a href=\"https://colab.research.google.com/github/Siddique02/project_4_assignments/blob/main/assignment_1-6/Project_3_Guess_the_Number_(user).ipynb\" target=\"_parent\"><img src=\"https://colab.research.google.com/assets/colab-badge.svg\" alt=\"Open In Colab\"/></a>"
      ]
    },
    {
      "cell_type": "code",
      "source": [
        "import random"
      ],
      "metadata": {
        "id": "NjC7J-6Y-vX1"
      },
      "execution_count": 1,
      "outputs": []
    },
    {
      "cell_type": "code",
      "source": [
        "def computer_guess(x):\n",
        "  low = 1\n",
        "  high = x\n",
        "  feedback = ''\n",
        "  while feedback != 'c':\n",
        "    guess = random.randint(low, high)\n",
        "    feedback = input(f'Is {guess} too high (H), too low (L), or correct (C)?? ').lower()\n",
        "\n",
        "    if feedback == \"h\":\n",
        "      high = guess - 1\n",
        "    elif feedback == \"l\":\n",
        "      low = guess + 1\n",
        "  print(f'Yay! The computer guessed your number, {guess}, correctly!')\n",
        "\n",
        "def main():\n",
        "  range = int(input(\"Type a number to set the range: \"))\n",
        "  computer_guess(range)\n",
        "\n",
        "\n",
        "if __name__ == '__main__':\n",
        "  main()"
      ],
      "metadata": {
        "colab": {
          "base_uri": "https://localhost:8080/"
        },
        "id": "tAVVKbfx-2bI",
        "outputId": "4da0bb6d-7563-4df2-ced1-36e16aa93ee1"
      },
      "execution_count": 4,
      "outputs": [
        {
          "output_type": "stream",
          "name": "stdout",
          "text": [
            "Type a number to set the range: 1000\n",
            "Is 652 too high (H), too low (L), or correct (C)?? c\n",
            "Yay! The computer guessed your number, 652, correctly!\n"
          ]
        }
      ]
    }
  ]
}