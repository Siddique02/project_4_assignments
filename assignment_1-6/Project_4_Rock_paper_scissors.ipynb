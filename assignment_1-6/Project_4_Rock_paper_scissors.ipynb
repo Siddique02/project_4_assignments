{
  "nbformat": 4,
  "nbformat_minor": 0,
  "metadata": {
    "colab": {
      "provenance": [],
      "authorship_tag": "ABX9TyOFBamNbUhYLkvcKRVm6xte",
      "include_colab_link": true
    },
    "kernelspec": {
      "name": "python3",
      "display_name": "Python 3"
    },
    "language_info": {
      "name": "python"
    }
  },
  "cells": [
    {
      "cell_type": "markdown",
      "metadata": {
        "id": "view-in-github",
        "colab_type": "text"
      },
      "source": [
        "<a href=\"https://colab.research.google.com/github/Siddique02/project_4_assignments/blob/main/assignment_1-6/Project_4_Rock_paper_scissors.ipynb\" target=\"_parent\"><img src=\"https://colab.research.google.com/assets/colab-badge.svg\" alt=\"Open In Colab\"/></a>"
      ]
    },
    {
      "cell_type": "code",
      "execution_count": 1,
      "metadata": {
        "id": "wk5YhTiDCca2"
      },
      "outputs": [],
      "source": [
        "import random"
      ]
    },
    {
      "cell_type": "code",
      "source": [
        "def play():\n",
        "  user = input(\"Enter your choice('r' for rock, 'p' for paper, 's' for scissors): \").lower()\n",
        "  computer = random.choice(['r', 'p', 's'])\n",
        "\n",
        "  if user == computer:\n",
        "    return 'It\\'s a tie'\n",
        "\n",
        "  if is_win(user, computer):\n",
        "    return 'You won!'\n",
        "\n",
        "  return 'You lost!'\n",
        "\n",
        "def is_win(player, opponent):\n",
        "  if (player == 'r' and opponent == 's') or (player == 's' and opponent == 'p') \\\n",
        "    or (player == 'p' and opponent == 'r'):\n",
        "    return True\n",
        "\n",
        "print(play())"
      ],
      "metadata": {
        "colab": {
          "base_uri": "https://localhost:8080/"
        },
        "id": "w16C7-wyCpxp",
        "outputId": "63bae2a4-55f0-4043-f503-e4964b56906b"
      },
      "execution_count": 6,
      "outputs": [
        {
          "output_type": "stream",
          "name": "stdout",
          "text": [
            "Enter your choice('r' for rock, 'p' for paper, 's' for scissors): p\n",
            "You lost!\n"
          ]
        }
      ]
    }
  ]
}