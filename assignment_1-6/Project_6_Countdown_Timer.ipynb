{
  "nbformat": 4,
  "nbformat_minor": 0,
  "metadata": {
    "colab": {
      "provenance": [],
      "authorship_tag": "ABX9TyNP79oST95yxi49tyNBj7zI",
      "include_colab_link": true
    },
    "kernelspec": {
      "name": "python3",
      "display_name": "Python 3"
    },
    "language_info": {
      "name": "python"
    }
  },
  "cells": [
    {
      "cell_type": "markdown",
      "metadata": {
        "id": "view-in-github",
        "colab_type": "text"
      },
      "source": [
        "<a href=\"https://colab.research.google.com/github/Siddique02/project_4_assignments/blob/main/assignment_1-6/Project_6_Countdown_Timer.ipynb\" target=\"_parent\"><img src=\"https://colab.research.google.com/assets/colab-badge.svg\" alt=\"Open In Colab\"/></a>"
      ]
    },
    {
      "cell_type": "code",
      "execution_count": 2,
      "metadata": {
        "id": "bYKlulg8IIwg"
      },
      "outputs": [],
      "source": [
        "import time"
      ]
    },
    {
      "cell_type": "code",
      "source": [
        "def countdown(t):\n",
        "  while t:\n",
        "    mins, secs = divmod(t, 60)\n",
        "    timer = '{:02d}:{:02d}'.format(mins, secs)\n",
        "    print(timer, end=\"\\n\")\n",
        "    time.sleep(1)\n",
        "    t -= 1\n",
        "\n",
        "  print(\"Timer completed\")\n",
        "\n",
        "def main():\n",
        "  t = input(\"Enter the time in seconds: \")\n",
        "\n",
        "  countdown(int(t))\n",
        "\n",
        "\n",
        "if __name__ == \"__main__\":\n",
        "  main()"
      ],
      "metadata": {
        "colab": {
          "base_uri": "https://localhost:8080/"
        },
        "id": "r9vrHAEOJn5O",
        "outputId": "ad7b1b5c-1874-48a8-8a80-9dbc3f8ebfcd"
      },
      "execution_count": 8,
      "outputs": [
        {
          "output_type": "stream",
          "name": "stdout",
          "text": [
            "Enter the time in seconds: 5\n",
            "00:05\n",
            "00:04\n",
            "00:03\n",
            "00:02\n",
            "00:01\n",
            "Timer completed\n"
          ]
        }
      ]
    }
  ]
}