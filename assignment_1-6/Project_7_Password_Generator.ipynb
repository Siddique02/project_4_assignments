{
  "nbformat": 4,
  "nbformat_minor": 0,
  "metadata": {
    "colab": {
      "provenance": [],
      "authorship_tag": "ABX9TyPDCPcnkrw32Ypdso4UGepN",
      "include_colab_link": true
    },
    "kernelspec": {
      "name": "python3",
      "display_name": "Python 3"
    },
    "language_info": {
      "name": "python"
    }
  },
  "cells": [
    {
      "cell_type": "markdown",
      "metadata": {
        "id": "view-in-github",
        "colab_type": "text"
      },
      "source": [
        "<a href=\"https://colab.research.google.com/github/Siddique02/project_4_assignments/blob/main/assignment_1-6/Project_7_Password_Generator.ipynb\" target=\"_parent\"><img src=\"https://colab.research.google.com/assets/colab-badge.svg\" alt=\"Open In Colab\"/></a>"
      ]
    },
    {
      "cell_type": "code",
      "execution_count": 1,
      "metadata": {
        "id": "qWodWK8QPMLJ"
      },
      "outputs": [],
      "source": [
        "import random"
      ]
    },
    {
      "cell_type": "code",
      "source": [
        "def generator():\n",
        "  print(\"Welcome to Password generator\")\n",
        "\n",
        "  chars = \"abcdefghijklmnopqrstuvwxyzABCDEFGHIJKLMNOPQRSTUVWXYZ!@#$%^&*().,1234567890\"\n",
        "\n",
        "  number = int(input('Amount of passwords to generate: '))\n",
        "\n",
        "  length = int(input('Input your password length: '))\n",
        "\n",
        "  print('\\nhere are your passwords: ')\n",
        "\n",
        "  for pwd in range(number):\n",
        "      passwords = ''\n",
        "      for c in range(length):\n",
        "          passwords += random.choice(chars)\n",
        "      print(passwords)\n",
        "\n",
        "\n",
        "generator()"
      ],
      "metadata": {
        "colab": {
          "base_uri": "https://localhost:8080/"
        },
        "id": "zrlNL9H1R_tl",
        "outputId": "00b08093-6d3a-4dd2-a07f-294cfa8156fa"
      },
      "execution_count": 3,
      "outputs": [
        {
          "output_type": "stream",
          "name": "stdout",
          "text": [
            "Welcome to Password generator\n",
            "Amount of passwords to generate: 5\n",
            "Input your password length: 9\n",
            "\n",
            "here are your passwords: \n",
            "cnfVlf%37\n",
            "UM5*2n7WL\n",
            "X@B6TOiej\n",
            "yMx@fNT!Y\n",
            "prgm(tx#R\n"
          ]
        }
      ]
    }
  ]
}