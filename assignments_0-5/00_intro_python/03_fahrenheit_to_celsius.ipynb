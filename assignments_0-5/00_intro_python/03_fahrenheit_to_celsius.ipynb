{
  "nbformat": 4,
  "nbformat_minor": 0,
  "metadata": {
    "colab": {
      "provenance": [],
      "authorship_tag": "ABX9TyMEPCiiaWkdMoh1It9XfXeG",
      "include_colab_link": true
    },
    "kernelspec": {
      "name": "python3",
      "display_name": "Python 3"
    },
    "language_info": {
      "name": "python"
    }
  },
  "cells": [
    {
      "cell_type": "markdown",
      "metadata": {
        "id": "view-in-github",
        "colab_type": "text"
      },
      "source": [
        "<a href=\"https://colab.research.google.com/github/Siddique02/project_4_assignments/blob/main/assignments_0-5/00_intro_python/03_fahrenheit_to_celsius.ipynb\" target=\"_parent\"><img src=\"https://colab.research.google.com/assets/colab-badge.svg\" alt=\"Open In Colab\"/></a>"
      ]
    },
    {
      "cell_type": "code",
      "execution_count": 1,
      "metadata": {
        "colab": {
          "base_uri": "https://localhost:8080/"
        },
        "id": "FEDtGlPIynp-",
        "outputId": "1a2667df-c6b6-4dbd-f81b-0bcd911626a7"
      },
      "outputs": [
        {
          "output_type": "stream",
          "name": "stdout",
          "text": [
            "Enter the temperature in Fahrenheit to convert into Celsius: 32\n",
            "32.0F = 0.0C\n"
          ]
        }
      ],
      "source": [
        "def main():\n",
        "  user_temp = float(input(\"Enter the temperature in Fahrenheit to convert into Celsius: \"))\n",
        "\n",
        "  temp_in_celsius = (user_temp - 32) * 5.0/9.0\n",
        "\n",
        "  print(f\"{user_temp}F = {temp_in_celsius}C\")\n",
        "\n",
        "\n",
        "if __name__ == '__main__':\n",
        "    main()"
      ]
    }
  ]
}