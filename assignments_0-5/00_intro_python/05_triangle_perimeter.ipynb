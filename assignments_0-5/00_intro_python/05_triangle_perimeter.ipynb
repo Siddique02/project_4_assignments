{
  "nbformat": 4,
  "nbformat_minor": 0,
  "metadata": {
    "colab": {
      "provenance": [],
      "authorship_tag": "ABX9TyN38zrBGm49LcFK49iqTyw9",
      "include_colab_link": true
    },
    "kernelspec": {
      "name": "python3",
      "display_name": "Python 3"
    },
    "language_info": {
      "name": "python"
    }
  },
  "cells": [
    {
      "cell_type": "markdown",
      "metadata": {
        "id": "view-in-github",
        "colab_type": "text"
      },
      "source": [
        "<a href=\"https://colab.research.google.com/github/Siddique02/project_4_assignments/blob/main/assignments_0-5/00_intro_python/05_triangle_perimeter.ipynb\" target=\"_parent\"><img src=\"https://colab.research.google.com/assets/colab-badge.svg\" alt=\"Open In Colab\"/></a>"
      ]
    },
    {
      "cell_type": "code",
      "execution_count": 3,
      "metadata": {
        "colab": {
          "base_uri": "https://localhost:8080/"
        },
        "id": "P66SutH52gTh",
        "outputId": "5e5c8441-0f5b-4338-a2cd-93dcb311048c"
      },
      "outputs": [
        {
          "output_type": "stream",
          "name": "stdout",
          "text": [
            "What is the length of side 1?2\n",
            "What is the length of side 2?2\n",
            "What is the length of side 3?2\n",
            "The parameter of triangle is 6.0\n"
          ]
        }
      ],
      "source": [
        "def main():\n",
        "  len_1 = float(input(\"What is the length of side 1?\"))\n",
        "  len_2 = float(input(\"What is the length of side 2?\"))\n",
        "  len_3 = float(input(\"What is the length of side 3?\"))\n",
        "\n",
        "  print(f\"The parameter of triangle is {len_1 + len_2 + len_3}\")\n",
        "\n",
        "\n",
        "\n",
        "if __name__ == '__main__':\n",
        "    main()"
      ]
    }
  ]
}