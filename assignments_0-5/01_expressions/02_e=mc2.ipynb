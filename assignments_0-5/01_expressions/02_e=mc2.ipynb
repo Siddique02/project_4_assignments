{
  "nbformat": 4,
  "nbformat_minor": 0,
  "metadata": {
    "colab": {
      "provenance": [],
      "authorship_tag": "ABX9TyOiihmllit2mQwopYYjfjv+",
      "include_colab_link": true
    },
    "kernelspec": {
      "name": "python3",
      "display_name": "Python 3"
    },
    "language_info": {
      "name": "python"
    }
  },
  "cells": [
    {
      "cell_type": "markdown",
      "metadata": {
        "id": "view-in-github",
        "colab_type": "text"
      },
      "source": [
        "<a href=\"https://colab.research.google.com/github/Siddique02/project_4_assignments/blob/main/assignments_0-5/01_expressions/02_e%3Dmc2.ipynb\" target=\"_parent\"><img src=\"https://colab.research.google.com/assets/colab-badge.svg\" alt=\"Open In Colab\"/></a>"
      ]
    },
    {
      "cell_type": "code",
      "execution_count": 5,
      "metadata": {
        "colab": {
          "base_uri": "https://localhost:8080/"
        },
        "id": "2USkZP7ZCvV_",
        "outputId": "b3e57392-13e4-4ca1-ebc1-73dd58bb4199"
      },
      "outputs": [
        {
          "output_type": "stream",
          "name": "stdout",
          "text": [
            "Enter mass in kilograms to calculate the energy: 100\n",
            "Energy = 8.987551787368176e+18 joules\n"
          ]
        }
      ],
      "source": [
        "def main():\n",
        "  user_input = float(input(\"Enter mass in kilograms to calculate the energy: \"))\n",
        "  C = 299792458\n",
        "  E = (user_input) * (C**2)\n",
        "\n",
        "  print(f\"Energy = {E} joules\")\n",
        "\n",
        "\n",
        "\n",
        "if __name__ == '__main__':\n",
        "    main()"
      ]
    }
  ]
}