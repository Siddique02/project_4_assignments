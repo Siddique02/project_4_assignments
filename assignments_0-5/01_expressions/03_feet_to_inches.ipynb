{
  "nbformat": 4,
  "nbformat_minor": 0,
  "metadata": {
    "colab": {
      "provenance": [],
      "authorship_tag": "ABX9TyM8vJrdkLrl67DDMIb50s6Z",
      "include_colab_link": true
    },
    "kernelspec": {
      "name": "python3",
      "display_name": "Python 3"
    },
    "language_info": {
      "name": "python"
    }
  },
  "cells": [
    {
      "cell_type": "markdown",
      "metadata": {
        "id": "view-in-github",
        "colab_type": "text"
      },
      "source": [
        "<a href=\"https://colab.research.google.com/github/Siddique02/project_4_assignments/blob/main/assignments_0-5/01_expressions/03_feet_to_inches.ipynb\" target=\"_parent\"><img src=\"https://colab.research.google.com/assets/colab-badge.svg\" alt=\"Open In Colab\"/></a>"
      ]
    },
    {
      "cell_type": "code",
      "execution_count": 1,
      "metadata": {
        "colab": {
          "base_uri": "https://localhost:8080/"
        },
        "id": "u9Tj8sXUFgwQ",
        "outputId": "014c7f32-6ff3-4b8d-ed00-2e3b02416206"
      },
      "outputs": [
        {
          "output_type": "stream",
          "name": "stdout",
          "text": [
            "Enter number of feet: 2\n",
            "That is 24.0 inches!\n"
          ]
        }
      ],
      "source": [
        "INCHES_IN_FOOT: int = 12\n",
        "\n",
        "def main():\n",
        "    feet: float = float(input(\"Enter number of feet: \"))\n",
        "    inches: float = feet * INCHES_IN_FOOT\n",
        "    print(\"That is\", inches, \"inches!\")\n",
        "\n",
        "\n",
        "\n",
        "if __name__ == '__main__':\n",
        "    main()"
      ]
    }
  ]
}