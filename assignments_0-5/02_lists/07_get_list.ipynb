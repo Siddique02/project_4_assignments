{
  "nbformat": 4,
  "nbformat_minor": 0,
  "metadata": {
    "colab": {
      "provenance": [],
      "authorship_tag": "ABX9TyPZX/cQJedx8sVy+VnUM13Z",
      "include_colab_link": true
    },
    "kernelspec": {
      "name": "python3",
      "display_name": "Python 3"
    },
    "language_info": {
      "name": "python"
    }
  },
  "cells": [
    {
      "cell_type": "markdown",
      "metadata": {
        "id": "view-in-github",
        "colab_type": "text"
      },
      "source": [
        "<a href=\"https://colab.research.google.com/github/Siddique02/project_4_assignments/blob/main/assignments_0-5/02_lists/07_get_list.ipynb\" target=\"_parent\"><img src=\"https://colab.research.google.com/assets/colab-badge.svg\" alt=\"Open In Colab\"/></a>"
      ]
    },
    {
      "cell_type": "code",
      "execution_count": 2,
      "metadata": {
        "colab": {
          "base_uri": "https://localhost:8080/"
        },
        "id": "aFq4bgcceaeG",
        "outputId": "12e1ee7e-b157-4ec7-a390-0e5cd3b32a7e"
      },
      "outputs": [
        {
          "output_type": "stream",
          "name": "stdout",
          "text": [
            "Enter a number: 56\n",
            "Enter a number: \n",
            "Your list: [56]\n"
          ]
        }
      ],
      "source": [
        "def print_list(lst):\n",
        "  print(lst)\n",
        "\n",
        "def main():\n",
        "  lst = []\n",
        "  user_input = input(\"Enter a number: \")\n",
        "  while user_input != \"\":\n",
        "    lst.append(int(user_input))\n",
        "    user_input = input(\"Enter a number: \")\n",
        "  print_list(f\"Your list: {lst}\")\n",
        "\n",
        "\n",
        "\n",
        "if __name__ == '__main__':\n",
        "    main()"
      ]
    }
  ]
}