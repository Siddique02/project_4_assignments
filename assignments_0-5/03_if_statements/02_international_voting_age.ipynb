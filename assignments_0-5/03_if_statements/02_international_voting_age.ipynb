{
  "nbformat": 4,
  "nbformat_minor": 0,
  "metadata": {
    "colab": {
      "provenance": [],
      "authorship_tag": "ABX9TyNcHzOI4GYqQIIQdRdMoNi1",
      "include_colab_link": true
    },
    "kernelspec": {
      "name": "python3",
      "display_name": "Python 3"
    },
    "language_info": {
      "name": "python"
    }
  },
  "cells": [
    {
      "cell_type": "markdown",
      "metadata": {
        "id": "view-in-github",
        "colab_type": "text"
      },
      "source": [
        "<a href=\"https://colab.research.google.com/github/Siddique02/project_4_assignments/blob/main/assignments_0-5/03_if_statements/02_international_voting_age.ipynb\" target=\"_parent\"><img src=\"https://colab.research.google.com/assets/colab-badge.svg\" alt=\"Open In Colab\"/></a>"
      ]
    },
    {
      "cell_type": "code",
      "execution_count": 2,
      "metadata": {
        "colab": {
          "base_uri": "https://localhost:8080/"
        },
        "id": "vA-gTr4PyTqe",
        "outputId": "4cb0f094-481c-4822-f290-6f13a4a213c9"
      },
      "outputs": [
        {
          "output_type": "stream",
          "name": "stdout",
          "text": [
            "Enter your age: 36\n",
            "You can vote in Peturksbouipo and Stanlau where the voting ages are 16 and 25. You cannot vote in Mayengua where the voting age is 48.\n"
          ]
        }
      ],
      "source": [
        "Peturksbouipo = 16\n",
        "Stanlau = 25\n",
        "Mayengua = 48\n",
        "\n",
        "def main():\n",
        "  user_input = int(input(\"Enter your age: \"))\n",
        "\n",
        "  if user_input >= 16 and user_input < 25:\n",
        "    print(\"You can vote in Peturksbouipo where the voting age is 16. You cannot vote in Stanlau and Mayengua where the voting ages are 25 and 48.\")\n",
        "  elif user_input >= 26 and user_input < 48:\n",
        "    print(\"You can vote in Peturksbouipo and Stanlau where the voting ages are 16 and 25. You cannot vote in Mayengua where the voting age is 48.\")\n",
        "  elif user_input <= 48 and user_input > 48:\n",
        "    print(\"You can vote in Peturksbouipo, Stanlau and Mayengua where the voting ages are 16, 25 and 48.\")\n",
        "\n",
        "\n",
        "if __name__ == '__main__':\n",
        "    main()"
      ]
    }
  ]
}