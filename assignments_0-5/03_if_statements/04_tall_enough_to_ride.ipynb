{
  "nbformat": 4,
  "nbformat_minor": 0,
  "metadata": {
    "colab": {
      "provenance": [],
      "authorship_tag": "ABX9TyMvA3MDGlXLnDacPJ4tN38n",
      "include_colab_link": true
    },
    "kernelspec": {
      "name": "python3",
      "display_name": "Python 3"
    },
    "language_info": {
      "name": "python"
    }
  },
  "cells": [
    {
      "cell_type": "markdown",
      "metadata": {
        "id": "view-in-github",
        "colab_type": "text"
      },
      "source": [
        "<a href=\"https://colab.research.google.com/github/Siddique02/project_4_assignments/blob/main/assignments_0-5/03_if_statements/04_tall_enough_to_ride.ipynb\" target=\"_parent\"><img src=\"https://colab.research.google.com/assets/colab-badge.svg\" alt=\"Open In Colab\"/></a>"
      ]
    },
    {
      "cell_type": "code",
      "execution_count": 8,
      "metadata": {
        "colab": {
          "base_uri": "https://localhost:8080/"
        },
        "id": "9w8DyuFZIeM2",
        "outputId": "c30ddd57-6d0a-4d3c-ffae-0da27853539d"
      },
      "outputs": [
        {
          "output_type": "stream",
          "name": "stdout",
          "text": [
            "Enter your height in inches: 90\n",
            "You're tall enough to ride!\n",
            "Enter your height in inches: 14\n",
            "You're not tall enough to ride, but maybe next year!\n",
            "Enter your height in inches: \n",
            "Goodbye\n"
          ]
        }
      ],
      "source": [
        "min_height = \"50\"\n",
        "\n",
        "def main():\n",
        "  cond = True\n",
        "  while cond:\n",
        "    user_input = str(input(\"Enter your height in inches: \"))\n",
        "\n",
        "    if user_input >= min_height:\n",
        "      print(\"You're tall enough to ride!\")\n",
        "    elif user_input == \"\":\n",
        "      print(\"Goodbye\")\n",
        "      cond = False\n",
        "    else:\n",
        "      print(\"You're not tall enough to ride, but maybe next year!\")\n",
        "\n",
        "\n",
        "if __name__ == \"__main__\":\n",
        "  main()"
      ]
    }
  ]
}