{
  "nbformat": 4,
  "nbformat_minor": 0,
  "metadata": {
    "colab": {
      "provenance": [],
      "authorship_tag": "ABX9TyOUlw7hdr4cYbP6rcr4OJi5",
      "include_colab_link": true
    },
    "kernelspec": {
      "name": "python3",
      "display_name": "Python 3"
    },
    "language_info": {
      "name": "python"
    }
  },
  "cells": [
    {
      "cell_type": "markdown",
      "metadata": {
        "id": "view-in-github",
        "colab_type": "text"
      },
      "source": [
        "<a href=\"https://colab.research.google.com/github/Siddique02/project_4_assignments/blob/main/assignments_0-5/04_dictionaries/00_count_nums.ipynb\" target=\"_parent\"><img src=\"https://colab.research.google.com/assets/colab-badge.svg\" alt=\"Open In Colab\"/></a>"
      ]
    },
    {
      "cell_type": "code",
      "execution_count": 11,
      "metadata": {
        "colab": {
          "base_uri": "https://localhost:8080/"
        },
        "id": "as-JZBw9ICMb",
        "outputId": "d82c74f7-40bd-4e6c-bcec-6e22c48e279b"
      },
      "outputs": [
        {
          "output_type": "stream",
          "name": "stdout",
          "text": [
            "Enter a number: 5\n",
            "Enter a number: 6\n",
            "Enter a number: 5\n",
            "Enter a number: \n",
            "5 appears 2 times\n",
            "6 appears 1 times\n"
          ]
        }
      ],
      "source": [
        "def user_nums():\n",
        "  user_nums_lst = []\n",
        "  while True:\n",
        "    user_input = input(\"Enter a number: \")\n",
        "\n",
        "    if user_input == \"\":\n",
        "      break\n",
        "\n",
        "    user_nums_lst.append(int(user_input))\n",
        "\n",
        "  return user_nums_lst\n",
        "\n",
        "\n",
        "def count_nums(num_list):\n",
        "  num_dict = {}\n",
        "\n",
        "  for num in num_list:\n",
        "    if num in num_dict:\n",
        "      num_dict[num] += 1\n",
        "    else:\n",
        "      num_dict[num] = 1\n",
        "  return num_dict\n",
        "\n",
        "\n",
        "def print_counts(num_dict):\n",
        "  for num in num_dict:\n",
        "    print(f\"{num} appears {num_dict[num]} times\")\n",
        "\n",
        "\n",
        "def main():\n",
        "  user_nums_lst = user_nums()\n",
        "  num_dict = count_nums(user_nums_lst)\n",
        "  print_counts(num_dict)\n",
        "\n",
        "\n",
        "if __name__ == \"__main__\":\n",
        "  main()"
      ]
    }
  ]
}