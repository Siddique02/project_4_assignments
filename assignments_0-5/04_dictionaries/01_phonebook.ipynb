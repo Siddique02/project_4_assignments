{
  "nbformat": 4,
  "nbformat_minor": 0,
  "metadata": {
    "colab": {
      "provenance": [],
      "authorship_tag": "ABX9TyPWnwkFdIxbP83QdVjTtTs9",
      "include_colab_link": true
    },
    "kernelspec": {
      "name": "python3",
      "display_name": "Python 3"
    },
    "language_info": {
      "name": "python"
    }
  },
  "cells": [
    {
      "cell_type": "markdown",
      "metadata": {
        "id": "view-in-github",
        "colab_type": "text"
      },
      "source": [
        "<a href=\"https://colab.research.google.com/github/Siddique02/project_4_assignments/blob/main/assignments_0-5/04_dictionaries/01_phonebook.ipynb\" target=\"_parent\"><img src=\"https://colab.research.google.com/assets/colab-badge.svg\" alt=\"Open In Colab\"/></a>"
      ]
    },
    {
      "cell_type": "code",
      "execution_count": 8,
      "metadata": {
        "colab": {
          "base_uri": "https://localhost:8080/"
        },
        "id": "sII6VzrYtYrl",
        "outputId": "78048c3f-12a5-4456-cb5a-3edf6fadc299"
      },
      "outputs": [
        {
          "name": "stdout",
          "output_type": "stream",
          "text": [
            "Enter a nameessa\n",
            "Enter a phone number: 873468736487\n",
            "Enter a namesiddique\n",
            "Enter a phone number: 8372827372387462378\n",
            "Enter a nameatiq\n",
            "Enter a phone number: 28975892374\n",
            "Enter a name\n",
            "essa -> 873468736487\n",
            "siddique -> 8372827372387462378\n",
            "atiq -> 28975892374\n",
            "Enter a name: siddique\n",
            "8372827372387462378\n",
            "Enter a name: atiq\n",
            "28975892374\n",
            "Enter a name: \n"
          ]
        }
      ],
      "source": [
        "def add_phone_numbers():\n",
        "  phonebook = {}\n",
        "\n",
        "  while True:\n",
        "    name = input(\"Enter a name: \")\n",
        "    if name == \"\":\n",
        "      break\n",
        "    phone = input(\"Enter a phone number: \")\n",
        "    phonebook[name] = phone\n",
        "  return phonebook\n",
        "\n",
        "\n",
        "def print_phonebook(phonebook):\n",
        "  for name in phonebook:\n",
        "    print(f\"{name} -> {phonebook[name]}\")\n",
        "\n",
        "\n",
        "def look_for_numbers(phonebook):\n",
        "  while True:\n",
        "    name = input(\"Enter a name: \")\n",
        "    if name == \"\":\n",
        "      break\n",
        "    if name in phonebook:\n",
        "      print(f\"{phonebook[name]}\")\n",
        "    else:\n",
        "      print(f\"{name} is not in the phonebook\")\n",
        "\n",
        "\n",
        "\n",
        "def main():\n",
        "  phonebook = add_phone_numbers()\n",
        "  print_phonebook(phonebook)\n",
        "  look_for_numbers(phonebook)\n",
        "\n",
        "\n",
        "if __name__ == \"__main__\":\n",
        "  main()"
      ]
    }
  ]
}