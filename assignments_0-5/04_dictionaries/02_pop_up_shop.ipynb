{
  "nbformat": 4,
  "nbformat_minor": 0,
  "metadata": {
    "colab": {
      "provenance": [],
      "authorship_tag": "ABX9TyMvnZ1xXVyncRn5JBs9Nknf",
      "include_colab_link": true
    },
    "kernelspec": {
      "name": "python3",
      "display_name": "Python 3"
    },
    "language_info": {
      "name": "python"
    }
  },
  "cells": [
    {
      "cell_type": "markdown",
      "metadata": {
        "id": "view-in-github",
        "colab_type": "text"
      },
      "source": [
        "<a href=\"https://colab.research.google.com/github/Siddique02/project_4_assignments/blob/main/assignments_0-5/04_dictionaries/02_pop_up_shop.ipynb\" target=\"_parent\"><img src=\"https://colab.research.google.com/assets/colab-badge.svg\" alt=\"Open In Colab\"/></a>"
      ]
    },
    {
      "cell_type": "code",
      "execution_count": 2,
      "metadata": {
        "colab": {
          "base_uri": "https://localhost:8080/"
        },
        "id": "8r0GP7BiEs9w",
        "outputId": "9c61de00-d5a1-4070-81fa-f42812ff7b64"
      },
      "outputs": [
        {
          "output_type": "stream",
          "name": "stdout",
          "text": [
            "How many apple do you want? 2\n",
            "How many durian do you want? 2\n",
            "How many jackfruit do you want? 2\n",
            "How many kiwi do you want? 2\n",
            "How many rambutan do you want? 2\n",
            "How many mango do you want? 2\n",
            "Total cost: 278.0\n"
          ]
        }
      ],
      "source": [
        "def main():\n",
        "  fruits = {'apple': 1.5, 'durian': 50, 'jackfruit': 80, 'kiwi': 1, 'rambutan': 1.5, 'mango': 5}\n",
        "  total_cost = 0\n",
        "\n",
        "  for fruit in fruits:\n",
        "    price = fruits[fruit]\n",
        "    quantity = int(input(f\"How many {fruit} do you want? \"))\n",
        "    total_cost += price * quantity\n",
        "\n",
        "  print(f\"Total cost: {total_cost}\")\n",
        "\n",
        "\n",
        "\n",
        "if __name__ == '__main__':\n",
        "    main()"
      ]
    }
  ]
}