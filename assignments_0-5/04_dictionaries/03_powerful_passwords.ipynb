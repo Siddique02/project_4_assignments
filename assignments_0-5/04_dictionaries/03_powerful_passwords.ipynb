{
  "nbformat": 4,
  "nbformat_minor": 0,
  "metadata": {
    "colab": {
      "provenance": [],
      "authorship_tag": "ABX9TyOjjJt+LWErZTIdxuam/Kco",
      "include_colab_link": true
    },
    "kernelspec": {
      "name": "python3",
      "display_name": "Python 3"
    },
    "language_info": {
      "name": "python"
    }
  },
  "cells": [
    {
      "cell_type": "markdown",
      "metadata": {
        "id": "view-in-github",
        "colab_type": "text"
      },
      "source": [
        "<a href=\"https://colab.research.google.com/github/Siddique02/project_4_assignments/blob/main/assignments_0-5/04_dictionaries/03_powerful_passwords.ipynb\" target=\"_parent\"><img src=\"https://colab.research.google.com/assets/colab-badge.svg\" alt=\"Open In Colab\"/></a>"
      ]
    },
    {
      "cell_type": "code",
      "execution_count": 1,
      "metadata": {
        "id": "4tPiEqQSNje0"
      },
      "outputs": [],
      "source": [
        "from hashlib import sha256"
      ]
    },
    {
      "cell_type": "code",
      "source": [
        "def login(email, stored_logins, password_to_check):\n",
        "  if stored_logins[email] == hash_password(password_to_check):\n",
        "    return True\n",
        "\n",
        "  return False\n",
        "\n",
        "\n",
        "def hash_password(password):\n",
        "  return sha256(password.encode()).hexdigest()\n",
        "\n",
        "\n",
        "def main():\n",
        "  stored_logins = {\n",
        "    \"example@gmail.com\": \"5e884898da28047151d0e56f8dc6292773603d0d6aabbdd62a11ef721d1542d8\",\n",
        "    \"code_in_placer@cip.org\": \"973607a4ae7b4cf7d96a100b0fb07e8519cc4f70441d41214a9f811577bb06cc\",\n",
        "    \"student@stanford.edu\": \"882c6df720fd99f5eebb1581a1cf975625cea8a160283011c0b9512bb56c95fb\"\n",
        "  }\n",
        "\n",
        "  print(login(\"example@gmail.com\", stored_logins, \"word\"))\n",
        "  print(login(\"example@gmail.com\", stored_logins, \"password\"))\n",
        "\n",
        "  print(login(\"code_in_placer@cip.org\", stored_logins, \"Karel\"))\n",
        "  print(login(\"code_in_placer@cip.org\", stored_logins, \"karel\"))\n",
        "\n",
        "  print(login(\"student@stanford.edu\", stored_logins, \"password\"))\n",
        "  print(login(\"student@stanford.edu\", stored_logins, \"123!456?789\"))\n",
        "\n",
        "\n",
        "\n",
        "\n",
        "if __name__ == '__main__':\n",
        "    main()"
      ],
      "metadata": {
        "colab": {
          "base_uri": "https://localhost:8080/"
        },
        "id": "SZN0AqpaOJ_f",
        "outputId": "019b2f14-ced4-4632-8956-167c4ce8d085"
      },
      "execution_count": 3,
      "outputs": [
        {
          "output_type": "stream",
          "name": "stdout",
          "text": [
            "False\n",
            "True\n",
            "False\n",
            "True\n",
            "False\n",
            "True\n"
          ]
        }
      ]
    }
  ]
}