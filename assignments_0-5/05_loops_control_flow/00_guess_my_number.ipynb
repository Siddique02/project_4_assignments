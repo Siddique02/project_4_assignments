{
  "nbformat": 4,
  "nbformat_minor": 0,
  "metadata": {
    "colab": {
      "provenance": [],
      "authorship_tag": "ABX9TyMn9BD4o4tcCP4GjwN1qAeO",
      "include_colab_link": true
    },
    "kernelspec": {
      "name": "python3",
      "display_name": "Python 3"
    },
    "language_info": {
      "name": "python"
    }
  },
  "cells": [
    {
      "cell_type": "markdown",
      "metadata": {
        "id": "view-in-github",
        "colab_type": "text"
      },
      "source": [
        "<a href=\"https://colab.research.google.com/github/Siddique02/project_4_assignments/blob/main/assignments_0-5/05_loops_control_flow/00_guess_my_number.ipynb\" target=\"_parent\"><img src=\"https://colab.research.google.com/assets/colab-badge.svg\" alt=\"Open In Colab\"/></a>"
      ]
    },
    {
      "cell_type": "code",
      "execution_count": 2,
      "metadata": {
        "id": "MSxYYwXlSpNY"
      },
      "outputs": [],
      "source": [
        "import random"
      ]
    },
    {
      "cell_type": "code",
      "source": [
        "def main():\n",
        "  print(\"I am thinking of a number between 0 and 99...\")\n",
        "  secret_num = random.randint(0, 99)\n",
        "  user_input = int(input(\"Enter your guess: \"))\n",
        "\n",
        "  while True:\n",
        "    if user_input == secret_num:\n",
        "      print(\"Congratulations! You guessed the number!\")\n",
        "      break\n",
        "    elif user_input < secret_num:\n",
        "      print(\"Too low! Try again.\")\n",
        "    else:\n",
        "      print(\"Too high! Try again.\")\n",
        "\n",
        "    user_input = int(input(\"Enter your new guess: \"))\n",
        "\n",
        "\n",
        "if __name__ == \"__main__\":\n",
        "  main()"
      ],
      "metadata": {
        "colab": {
          "base_uri": "https://localhost:8080/"
        },
        "id": "LnDyQsueTjb5",
        "outputId": "ca799c38-25d4-42ea-c91d-bc46273da48f"
      },
      "execution_count": 3,
      "outputs": [
        {
          "output_type": "stream",
          "name": "stdout",
          "text": [
            "I am thinking of a number between 0 and 99...\n",
            "Enter your guess: 56\n",
            "Too high! Try again.\n",
            "Enter your new guess: 34\n",
            "Too high! Try again.\n",
            "Enter your new guess: 12\n",
            "Too high! Try again.\n",
            "Enter your new guess: 2\n",
            "Too low! Try again.\n",
            "Enter your new guess: 8\n",
            "Too low! Try again.\n",
            "Enter your new guess: 10\n",
            "Too high! Try again.\n",
            "Enter your new guess: 9\n",
            "Congratulations! You guessed the number!\n"
          ]
        }
      ]
    }
  ]
}