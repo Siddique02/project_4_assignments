{
  "nbformat": 4,
  "nbformat_minor": 0,
  "metadata": {
    "colab": {
      "provenance": [],
      "authorship_tag": "ABX9TyOGFOJiNZRfRVbcBHsMs+GG",
      "include_colab_link": true
    },
    "kernelspec": {
      "name": "python3",
      "display_name": "Python 3"
    },
    "language_info": {
      "name": "python"
    }
  },
  "cells": [
    {
      "cell_type": "markdown",
      "metadata": {
        "id": "view-in-github",
        "colab_type": "text"
      },
      "source": [
        "<a href=\"https://colab.research.google.com/github/Siddique02/project_4_assignments/blob/main/assignments_0-5/05_loops_control_flow/03_wholesome_machine.ipynb\" target=\"_parent\"><img src=\"https://colab.research.google.com/assets/colab-badge.svg\" alt=\"Open In Colab\"/></a>"
      ]
    },
    {
      "cell_type": "code",
      "execution_count": 2,
      "metadata": {
        "colab": {
          "base_uri": "https://localhost:8080/"
        },
        "id": "OujHm7x_sZxy",
        "outputId": "e2f38fc2-b909-4307-c5c1-9b76b917454a"
      },
      "outputs": [
        {
          "output_type": "stream",
          "name": "stdout",
          "text": [
            "Please type the following affirmation: I am capable of doing anything I put my mind to.\n",
            "I am capable of doing anything I put my mind to\n",
            "That was not the affirmation.\n",
            "I am capable of doing anything I put my mind to.\n",
            "That was the affirmation.\n"
          ]
        }
      ],
      "source": [
        "AFFIRMATION = \"I am capable of doing anything I put my mind to.\"\n",
        "\n",
        "\n",
        "def main():\n",
        "  print(f\"Please type the following affirmation: {AFFIRMATION}\")\n",
        "\n",
        "  user_input = input()\n",
        "  while user_input != AFFIRMATION:\n",
        "    print(\"That was not the affirmation.\")\n",
        "    print(f\"Please type the following affirmation: {AFFIRMATION}\")\n",
        "    user_input = input()\n",
        "  print(\"That was the right affirmation.\")\n",
        "\n",
        "\n",
        "\n",
        "\n",
        "if __name__ == '__main__':\n",
        "    main()"
      ]
    }
  ]
}