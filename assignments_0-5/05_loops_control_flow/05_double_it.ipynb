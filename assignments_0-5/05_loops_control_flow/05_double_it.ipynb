{
  "nbformat": 4,
  "nbformat_minor": 0,
  "metadata": {
    "colab": {
      "provenance": [],
      "authorship_tag": "ABX9TyOKzBzcQkCob0YaZvIXw/Nu",
      "include_colab_link": true
    },
    "kernelspec": {
      "name": "python3",
      "display_name": "Python 3"
    },
    "language_info": {
      "name": "python"
    }
  },
  "cells": [
    {
      "cell_type": "markdown",
      "metadata": {
        "id": "view-in-github",
        "colab_type": "text"
      },
      "source": [
        "<a href=\"https://colab.research.google.com/github/Siddique02/project_4_assignments/blob/main/assignments_0-5/05_loops_control_flow/05_double_it.ipynb\" target=\"_parent\"><img src=\"https://colab.research.google.com/assets/colab-badge.svg\" alt=\"Open In Colab\"/></a>"
      ]
    },
    {
      "cell_type": "code",
      "execution_count": 1,
      "metadata": {
        "colab": {
          "base_uri": "https://localhost:8080/"
        },
        "id": "SrSBQXSGv96u",
        "outputId": "c4728713-d52f-4ebf-c0d5-4ca6df92a03b"
      },
      "outputs": [
        {
          "output_type": "stream",
          "name": "stdout",
          "text": [
            "Write any number: 4\n",
            "8 16 32 64 128 "
          ]
        }
      ],
      "source": [
        "\n",
        "def main():\n",
        "  user_input = int(input(\"Write any number: \"))\n",
        "  while user_input < 100:\n",
        "    user_input *= 2\n",
        "    print(user_input, end=\" \")\n",
        "\n",
        "\n",
        "\n",
        "if __name__ == '__main__':\n",
        "    main()"
      ]
    }
  ]
}