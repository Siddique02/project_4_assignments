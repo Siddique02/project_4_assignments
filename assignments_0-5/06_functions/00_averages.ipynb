{
  "nbformat": 4,
  "nbformat_minor": 0,
  "metadata": {
    "colab": {
      "provenance": [],
      "authorship_tag": "ABX9TyP6JZijXooIVpnJY/0vEgqS",
      "include_colab_link": true
    },
    "kernelspec": {
      "name": "python3",
      "display_name": "Python 3"
    },
    "language_info": {
      "name": "python"
    }
  },
  "cells": [
    {
      "cell_type": "markdown",
      "metadata": {
        "id": "view-in-github",
        "colab_type": "text"
      },
      "source": [
        "<a href=\"https://colab.research.google.com/github/Siddique02/project_4_assignments/blob/main/assignments_0-5/06_functions/00_averages.ipynb\" target=\"_parent\"><img src=\"https://colab.research.google.com/assets/colab-badge.svg\" alt=\"Open In Colab\"/></a>"
      ]
    },
    {
      "cell_type": "code",
      "execution_count": 6,
      "metadata": {
        "id": "Fa_WjO85XiN3",
        "colab": {
          "base_uri": "https://localhost:8080/"
        },
        "outputId": "b7aa985b-df81-446d-85a5-9b9a0aa7cd6a"
      },
      "outputs": [
        {
          "output_type": "stream",
          "name": "stdout",
          "text": [
            "Enter your first num: 5\n",
            "Enter your second num: 10\n",
            "7.5\n"
          ]
        }
      ],
      "source": [
        "def average(a, b):\n",
        "  sum = a + b\n",
        "  avg = sum / 2\n",
        "  return avg\n",
        "\n",
        "\n",
        "def main():\n",
        "  a = float(input(\"Enter your first num: \"))\n",
        "  b = float(input(\"Enter your second num: \"))\n",
        "  final_avg = average(a, b)\n",
        "  print(final_avg)\n",
        "\n",
        "\n",
        "\n",
        "if __name__ == '__main__':\n",
        "    main()"
      ]
    }
  ]
}