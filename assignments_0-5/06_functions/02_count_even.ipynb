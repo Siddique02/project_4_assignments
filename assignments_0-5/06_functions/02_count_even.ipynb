{
  "nbformat": 4,
  "nbformat_minor": 0,
  "metadata": {
    "colab": {
      "provenance": [],
      "authorship_tag": "ABX9TyOHjvdRzdFcbmeMx82SZ07q",
      "include_colab_link": true
    },
    "kernelspec": {
      "name": "python3",
      "display_name": "Python 3"
    },
    "language_info": {
      "name": "python"
    }
  },
  "cells": [
    {
      "cell_type": "markdown",
      "metadata": {
        "id": "view-in-github",
        "colab_type": "text"
      },
      "source": [
        "<a href=\"https://colab.research.google.com/github/Siddique02/project_4_assignments/blob/main/assignments_0-5/06_functions/02_count_even.ipynb\" target=\"_parent\"><img src=\"https://colab.research.google.com/assets/colab-badge.svg\" alt=\"Open In Colab\"/></a>"
      ]
    },
    {
      "cell_type": "code",
      "execution_count": 20,
      "metadata": {
        "colab": {
          "base_uri": "https://localhost:8080/"
        },
        "id": "yAg4kQOu1QM-",
        "outputId": "fed082c5-0df4-4b3e-eba4-c2e18ddcc0a3"
      },
      "outputs": [
        {
          "output_type": "stream",
          "name": "stdout",
          "text": [
            "Enter an integer or press enter to stop: 2\n",
            "Enter an integer or press enter to stop: \n",
            "Even count: 1\n"
          ]
        }
      ],
      "source": [
        "def get_ints():\n",
        "  int_list = []\n",
        "  while True:\n",
        "    user_input = input(\"Enter an integer or press enter to stop: \")\n",
        "    if user_input == \"\":\n",
        "      break\n",
        "    int_list.append(int(user_input))\n",
        "  return int_list\n",
        "\n",
        "\n",
        "def count_even(int_list):\n",
        "  count = 0\n",
        "  for num in int_list:\n",
        "    if num % 2 == 0:\n",
        "      count += 1\n",
        "  print(f\"Even count: {count}\")\n",
        "\n",
        "\n",
        "def main():\n",
        "  int_list = get_ints()\n",
        "  count_even(int_list)\n",
        "\n",
        "\n",
        "\n",
        "\n",
        "\n",
        "if __name__ == '__main__':\n",
        "    main()\n"
      ]
    }
  ]
}