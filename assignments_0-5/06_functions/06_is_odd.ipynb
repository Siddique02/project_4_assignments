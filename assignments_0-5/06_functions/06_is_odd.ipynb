{
  "nbformat": 4,
  "nbformat_minor": 0,
  "metadata": {
    "colab": {
      "provenance": [],
      "authorship_tag": "ABX9TyOLW6/CZo6z334qPXUju6My",
      "include_colab_link": true
    },
    "kernelspec": {
      "name": "python3",
      "display_name": "Python 3"
    },
    "language_info": {
      "name": "python"
    }
  },
  "cells": [
    {
      "cell_type": "markdown",
      "metadata": {
        "id": "view-in-github",
        "colab_type": "text"
      },
      "source": [
        "<a href=\"https://colab.research.google.com/github/Siddique02/project_4_assignments/blob/main/assignments_0-5/06_functions/06_is_odd.ipynb\" target=\"_parent\"><img src=\"https://colab.research.google.com/assets/colab-badge.svg\" alt=\"Open In Colab\"/></a>"
      ]
    },
    {
      "cell_type": "code",
      "execution_count": 3,
      "metadata": {
        "colab": {
          "base_uri": "https://localhost:8080/"
        },
        "id": "26OhDKDe-oqO",
        "outputId": "b80bd24d-d333-4827-f965-3b8da63c746f"
      },
      "outputs": [
        {
          "output_type": "stream",
          "name": "stdout",
          "text": [
            "0 even 1 odd 2 even 3 odd 4 even 5 odd 6 even 7 odd 8 even 9 odd "
          ]
        }
      ],
      "source": [
        "def check_odd(num):\n",
        "  if num % 2 == 0:\n",
        "      return False\n",
        "  else:\n",
        "      return True\n",
        "\n",
        "def main():\n",
        "  for i in range(10):\n",
        "    if check_odd(i):\n",
        "      print(f\"{i} odd\", end=\" \")\n",
        "    else:\n",
        "      print(f\"{i} even\", end=\" \")\n",
        "\n",
        "\n",
        "\n",
        "if __name__ == '__main__':\n",
        "    main()"
      ]
    }
  ]
}