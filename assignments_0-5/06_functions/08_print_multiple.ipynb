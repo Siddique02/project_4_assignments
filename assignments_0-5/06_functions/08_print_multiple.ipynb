{
  "nbformat": 4,
  "nbformat_minor": 0,
  "metadata": {
    "colab": {
      "provenance": [],
      "authorship_tag": "ABX9TyMeHvoFIxaIdQHFsObe7FGz",
      "include_colab_link": true
    },
    "kernelspec": {
      "name": "python3",
      "display_name": "Python 3"
    },
    "language_info": {
      "name": "python"
    }
  },
  "cells": [
    {
      "cell_type": "markdown",
      "metadata": {
        "id": "view-in-github",
        "colab_type": "text"
      },
      "source": [
        "<a href=\"https://colab.research.google.com/github/Siddique02/project_4_assignments/blob/main/assignments_0-5/06_functions/08_print_multiple.ipynb\" target=\"_parent\"><img src=\"https://colab.research.google.com/assets/colab-badge.svg\" alt=\"Open In Colab\"/></a>"
      ]
    },
    {
      "cell_type": "code",
      "execution_count": 3,
      "metadata": {
        "colab": {
          "base_uri": "https://localhost:8080/"
        },
        "id": "ukmM4mxS5ZP-",
        "outputId": "ee92cde6-0aa4-4dd1-b85c-6ade81c9c410"
      },
      "outputs": [
        {
          "output_type": "stream",
          "name": "stdout",
          "text": [
            "Enter a message: rgrg\n",
            "Enter the number of times to print the message: 3\n",
            "rgrg rgrg rgrg "
          ]
        }
      ],
      "source": [
        "def print_multiple(msg, no_of_times):\n",
        "  for i in range(no_of_times):\n",
        "    print(msg, end=\" \")\n",
        "\n",
        "\n",
        "def main():\n",
        "  user_input = input(\"Enter a message: \")\n",
        "  no_of_times = int(input(\"Enter the number of times to print the message: \"))\n",
        "  print_multiple(user_input, no_of_times)\n",
        "\n",
        "\n",
        "\n",
        "if __name__ == \"__main__\":\n",
        "  main()"
      ]
    }
  ]
}