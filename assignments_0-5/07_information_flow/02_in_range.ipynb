{
  "nbformat": 4,
  "nbformat_minor": 0,
  "metadata": {
    "colab": {
      "provenance": [],
      "authorship_tag": "ABX9TyPJ5TdzKSvwXXDVUa5CZZvv",
      "include_colab_link": true
    },
    "kernelspec": {
      "name": "python3",
      "display_name": "Python 3"
    },
    "language_info": {
      "name": "python"
    }
  },
  "cells": [
    {
      "cell_type": "markdown",
      "metadata": {
        "id": "view-in-github",
        "colab_type": "text"
      },
      "source": [
        "<a href=\"https://colab.research.google.com/github/Siddique02/project_4_assignments/blob/main/assignments_0-5/07_information_flow/02_in_range.ipynb\" target=\"_parent\"><img src=\"https://colab.research.google.com/assets/colab-badge.svg\" alt=\"Open In Colab\"/></a>"
      ]
    },
    {
      "cell_type": "code",
      "execution_count": 5,
      "metadata": {
        "colab": {
          "base_uri": "https://localhost:8080/"
        },
        "id": "Na5FEB_VCKJx",
        "outputId": "93febcff-6a4e-4b1f-9fcc-1773b519bb0f"
      },
      "outputs": [
        {
          "output_type": "stream",
          "name": "stdout",
          "text": [
            "Enter first number which will be in between second and third: 5\n",
            "Enter second number which will be the low end of the range: 1\n",
            "Enter third number which will be the high end of the range: 10\n",
            "5 is in between 1 and 10\n"
          ]
        }
      ],
      "source": [
        "def in_range(n, low, high):\n",
        "  if n >= low and n <= high:\n",
        "    return True\n",
        "\n",
        "  return False\n",
        "\n",
        "\n",
        "def main():\n",
        "  user_input_1 = int(input(\"Enter first number which will be in between second and third: \"))\n",
        "  user_input_2 = int(input(\"Enter second number which will be the low end of the range: \"))\n",
        "  user_input_3 = int(input(\"Enter third number which will be the high end of the range: \"))\n",
        "\n",
        "  print(in_range(user_input_1, user_input_2, user_input_3))\n",
        "\n",
        "\n",
        "\n",
        "if __name__ == '__main__':\n",
        "    main()"
      ]
    }
  ]
}