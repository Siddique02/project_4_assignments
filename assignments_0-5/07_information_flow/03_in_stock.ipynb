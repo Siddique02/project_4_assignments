{
  "nbformat": 4,
  "nbformat_minor": 0,
  "metadata": {
    "colab": {
      "provenance": [],
      "authorship_tag": "ABX9TyO/cU/W9BBRY44yIVFB4DDb",
      "include_colab_link": true
    },
    "kernelspec": {
      "name": "python3",
      "display_name": "Python 3"
    },
    "language_info": {
      "name": "python"
    }
  },
  "cells": [
    {
      "cell_type": "markdown",
      "metadata": {
        "id": "view-in-github",
        "colab_type": "text"
      },
      "source": [
        "<a href=\"https://colab.research.google.com/github/Siddique02/project_4_assignments/blob/main/assignments_0-5/07_information_flow/03_in_stock.ipynb\" target=\"_parent\"><img src=\"https://colab.research.google.com/assets/colab-badge.svg\" alt=\"Open In Colab\"/></a>"
      ]
    },
    {
      "cell_type": "code",
      "execution_count": 3,
      "metadata": {
        "colab": {
          "base_uri": "https://localhost:8080/"
        },
        "id": "zqCOqg7kG-Z8",
        "outputId": "0ff6d040-51a1-4294-cb27-18cc55bbadfb"
      },
      "outputs": [
        {
          "output_type": "stream",
          "name": "stdout",
          "text": [
            "Enter a fruit: Pear\n",
            "This fruit is in stock! Here is how many: 1000\n"
          ]
        }
      ],
      "source": [
        "def num_in_stock(fruit):\n",
        "\tif fruit.lower() == 'apple':\n",
        "\t\treturn 2\n",
        "\telif fruit.lower() == 'durian':\n",
        "\t\treturn 4\n",
        "\telif fruit.lower() == 'pear':\n",
        "\t\treturn 1000\n",
        "\telse:\n",
        "\t\treturn 0\n",
        "\n",
        "\n",
        "def main():\n",
        "\tfruit : str = input(\"Enter a fruit: \")\n",
        "\tstock = num_in_stock(fruit)\n",
        "\tif stock == 0:\n",
        "\t\tprint(\"This fruit is not in stock.\")\n",
        "\telse:\n",
        "\t\tprint(f\"This fruit is in stock! Here is how many: {stock}\")\n",
        "\n",
        "\n",
        "if __name__ == '__main__':\n",
        "    main()"
      ]
    }
  ]
}