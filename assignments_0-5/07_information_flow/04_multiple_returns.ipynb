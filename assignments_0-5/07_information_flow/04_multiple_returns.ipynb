{
  "nbformat": 4,
  "nbformat_minor": 0,
  "metadata": {
    "colab": {
      "provenance": [],
      "authorship_tag": "ABX9TyPPicoD4UKQzsld6lQvhVRm",
      "include_colab_link": true
    },
    "kernelspec": {
      "name": "python3",
      "display_name": "Python 3"
    },
    "language_info": {
      "name": "python"
    }
  },
  "cells": [
    {
      "cell_type": "markdown",
      "metadata": {
        "id": "view-in-github",
        "colab_type": "text"
      },
      "source": [
        "<a href=\"https://colab.research.google.com/github/Siddique02/project_4_assignments/blob/main/assignments_0-5/07_information_flow/04_multiple_returns.ipynb\" target=\"_parent\"><img src=\"https://colab.research.google.com/assets/colab-badge.svg\" alt=\"Open In Colab\"/></a>"
      ]
    },
    {
      "cell_type": "code",
      "execution_count": 2,
      "metadata": {
        "colab": {
          "base_uri": "https://localhost:8080/"
        },
        "id": "dX5RYFrpJPAS",
        "outputId": "2bea9bb0-4319-46a9-a935-31f72bc24aac"
      },
      "outputs": [
        {
          "output_type": "stream",
          "name": "stdout",
          "text": [
            "Enter your first name: Muhammad\n",
            "Enter your last name: Siddique\n",
            "Enter your email address: siddique@jsddfjk,com\n",
            "Received the following user data: ('Muhammad', 'Siddique', 'siddique@jsddfjk,com')\n"
          ]
        }
      ],
      "source": [
        "def get_user_data():\n",
        "  first_name = input(\"Enter your first name: \")\n",
        "  last_name = input(\"Enter your last name: \")\n",
        "  email_address = input(\"Enter your email address: \")\n",
        "\n",
        "  return first_name, last_name, email_address\n",
        "\n",
        "\n",
        "def main():\n",
        "  user_data = get_user_data()\n",
        "  print(\"Received the following user data:\", user_data)\n",
        "\n",
        "\n",
        "if __name__ == \"__main__\":\n",
        "     main()"
      ]
    }
  ]
}