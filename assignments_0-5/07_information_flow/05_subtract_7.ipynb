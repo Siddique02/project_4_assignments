{
  "nbformat": 4,
  "nbformat_minor": 0,
  "metadata": {
    "colab": {
      "provenance": [],
      "authorship_tag": "ABX9TyMLituhPWivXFlJRQdjcIj2",
      "include_colab_link": true
    },
    "kernelspec": {
      "name": "python3",
      "display_name": "Python 3"
    },
    "language_info": {
      "name": "python"
    }
  },
  "cells": [
    {
      "cell_type": "markdown",
      "metadata": {
        "id": "view-in-github",
        "colab_type": "text"
      },
      "source": [
        "<a href=\"https://colab.research.google.com/github/Siddique02/project_4_assignments/blob/main/assignments_0-5/07_information_flow/05_subtract_7.ipynb\" target=\"_parent\"><img src=\"https://colab.research.google.com/assets/colab-badge.svg\" alt=\"Open In Colab\"/></a>"
      ]
    },
    {
      "cell_type": "code",
      "execution_count": null,
      "metadata": {
        "id": "-UdQuiXGLvI9"
      },
      "outputs": [],
      "source": [
        "def subtract_seven(num):\n",
        "\tnum = num - 7\n",
        "\treturn num\n",
        "\n",
        "def main():\n",
        "  user_num = int(input(\"Enter a number to subtract 7 from it: \"))\n",
        "  print(subtract_seven(user_num))\n",
        "\n",
        "\n",
        "\n",
        "\n",
        "if __name__ == '__main__':\n",
        "    main()"
      ]
    }
  ]
}