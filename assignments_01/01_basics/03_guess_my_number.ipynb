{
  "nbformat": 4,
  "nbformat_minor": 0,
  "metadata": {
    "colab": {
      "provenance": [],
      "authorship_tag": "ABX9TyM+jpH1aYYPzEP8yHaZZmTs",
      "include_colab_link": true
    },
    "kernelspec": {
      "name": "python3",
      "display_name": "Python 3"
    },
    "language_info": {
      "name": "python"
    }
  },
  "cells": [
    {
      "cell_type": "markdown",
      "metadata": {
        "id": "view-in-github",
        "colab_type": "text"
      },
      "source": [
        "<a href=\"https://colab.research.google.com/github/Siddique02/project_4_assignments/blob/main/assignments_01/01_basics/03_guess_my_number.ipynb\" target=\"_parent\"><img src=\"https://colab.research.google.com/assets/colab-badge.svg\" alt=\"Open In Colab\"/></a>"
      ]
    },
    {
      "cell_type": "code",
      "execution_count": null,
      "metadata": {
        "id": "BLqVZ02d0l2U"
      },
      "outputs": [],
      "source": [
        "import random\n",
        "\n",
        "def main():\n",
        "  random_number: int = random.randint(1, 99)\n",
        "  print(\"I am generating a number between 0 to 100\")\n",
        "\n",
        "\n",
        "  allowed_attempts: int = 7\n",
        "  user_attempts: int = 0\n",
        "\n",
        "  while True:\n",
        "\n",
        "    user_input: int = int(input(\"Please enter your guess: \"))\n",
        "    allowed_attempts -= 1\n",
        "    print(\"Allowed attempts\", allowed_attempts)\n",
        "\n",
        "    if user_input == random_number:\n",
        "      print(\"Congradulations! You guessed the number correctly!\")\n",
        "      break\n",
        "    elif user_input > random_number:\n",
        "      print(\"Your guess is too high!\")\n",
        "    elif user_input < random_number:\n",
        "      print(\"Your guess is too low!\")\n",
        "\n",
        "    if allowed_attempts == 0:\n",
        "      print(\"You ran out of attempts!\")\n",
        "      break\n",
        "\n",
        "  print(\"The number was\", random_number)\n",
        "\n",
        "main()"
      ]
    }
  ]
}