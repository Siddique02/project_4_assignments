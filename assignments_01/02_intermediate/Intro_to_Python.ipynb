{
  "nbformat": 4,
  "nbformat_minor": 0,
  "metadata": {
    "colab": {
      "provenance": [],
      "authorship_tag": "ABX9TyPn6st52bG4MAb/Je78J2+h",
      "include_colab_link": true
    },
    "kernelspec": {
      "name": "python3",
      "display_name": "Python 3"
    },
    "language_info": {
      "name": "python"
    }
  },
  "cells": [
    {
      "cell_type": "markdown",
      "metadata": {
        "id": "view-in-github",
        "colab_type": "text"
      },
      "source": [
        "<a href=\"https://colab.research.google.com/github/Siddique02/project_4_assignments/blob/main/assignments_01/02_intermediate/Intro_to_Python.ipynb\" target=\"_parent\"><img src=\"https://colab.research.google.com/assets/colab-badge.svg\" alt=\"Open In Colab\"/></a>"
      ]
    },
    {
      "cell_type": "code",
      "execution_count": 4,
      "metadata": {
        "colab": {
          "base_uri": "https://localhost:8080/"
        },
        "id": "LtQlneh-T668",
        "outputId": "cab550a8-b20b-4ad2-993e-96d02b41a8fe"
      },
      "outputs": [
        {
          "output_type": "stream",
          "name": "stdout",
          "text": [
            "Enter your weight on earth: 60\n",
            "Enter the planet you want to go to: Mars\n",
            "Your weight on Mars is 22.68\n"
          ]
        }
      ],
      "source": [
        "MERCURY_GRAVITY = 0.376\n",
        "VENUS_GRAVITY = 0.889\n",
        "MARS_GRAVITY = 0.378\n",
        "JUPITER_GRAVITY = 2.36\n",
        "SATURN_GRAVITY = 1.081\n",
        "URANUS_GRAVITY = 0.815\n",
        "NEPTUNE_GRAVITY = 1.14\n",
        "EARTH_GRAVITY = 1.0\n",
        "\n",
        "def main():\n",
        "  weight = float(input(\"Enter your weight on earth: \"))\n",
        "  planet = input(\"Enter the planet you want to go to: \")\n",
        "\n",
        "  if planet.lower() == \"mercury\":\n",
        "    gravity = MERCURY_GRAVITY\n",
        "  elif planet.lower() == \"venus\":\n",
        "    gravity = VENUS_GRAVITY\n",
        "  elif planet.lower() == \"mars\":\n",
        "    gravity = MARS_GRAVITY\n",
        "  elif planet.lower() == \"jupiter\":\n",
        "    gravity = JUPITER_GRAVITY\n",
        "  elif planet.lower() == \"saturn\":\n",
        "    gravity = SATURN_GRAVITY\n",
        "  elif planet.lower() == \"uranus\":\n",
        "    gravity = URANUS_GRAVITY\n",
        "  elif planet.lower() == \"neptune\":\n",
        "    gravity = NEPTUNE_GRAVITY\n",
        "\n",
        "\n",
        "  planetary_weight = weight * gravity\n",
        "  rounded_planetary_weight = round(planetary_weight, 2)\n",
        "  print(f\"Your weight on {planet} is {rounded_planetary_weight}\")\n",
        "\n",
        "\n",
        "\n",
        "if __name__ == \"__main__\":\n",
        "  main()"
      ]
    }
  ]
}