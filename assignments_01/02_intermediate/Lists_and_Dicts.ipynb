{
  "nbformat": 4,
  "nbformat_minor": 0,
  "metadata": {
    "colab": {
      "provenance": [],
      "authorship_tag": "ABX9TyOWMFxWXPZo05HO+daSbR26",
      "include_colab_link": true
    },
    "kernelspec": {
      "name": "python3",
      "display_name": "Python 3"
    },
    "language_info": {
      "name": "python"
    }
  },
  "cells": [
    {
      "cell_type": "markdown",
      "metadata": {
        "id": "view-in-github",
        "colab_type": "text"
      },
      "source": [
        "<a href=\"https://colab.research.google.com/github/Siddique02/project_4_assignments/blob/main/assignments_01/02_intermediate/Lists_and_Dicts.ipynb\" target=\"_parent\"><img src=\"https://colab.research.google.com/assets/colab-badge.svg\" alt=\"Open In Colab\"/></a>"
      ]
    },
    {
      "cell_type": "code",
      "execution_count": 4,
      "metadata": {
        "colab": {
          "base_uri": "https://localhost:8080/"
        },
        "id": "pugEk9SqX4f6",
        "outputId": "c2ec6715-5187-4c4d-f88f-6e983d5bfd65"
      },
      "outputs": [
        {
          "output_type": "stream",
          "name": "stdout",
          "text": [
            "5\n",
            "['apple', 'banana', 'orange', 'grape', 'pineapple', 'mango']\n"
          ]
        }
      ],
      "source": [
        "#Problem 1\n",
        "def main():\n",
        "  fruit_list = ['apple', 'banana', 'orange', 'grape', 'pineapple']\n",
        "  print(len(fruit_list))\n",
        "  fruit_list.append(\"mango\")\n",
        "  print(fruit_list)\n",
        "\n",
        "\n",
        "if __name__ == '__main__':\n",
        "  main()"
      ]
    },
    {
      "cell_type": "code",
      "source": [
        "#Problem 2\n",
        "lst = ['apple', 'banana', 'orange', 'grape', 'pineapple']\n",
        "\n",
        "def access_elem(lst, index):\n",
        "  try:\n",
        "    return lst[index]\n",
        "  except IndexError:\n",
        "    return \"Index out of range\"\n",
        "\n",
        "def modify_elem(lst, index, new_value):\n",
        "  try:\n",
        "    lst[index] = new_value\n",
        "    return lst\n",
        "  except IndexError:\n",
        "    return \"Index out of range\"\n",
        "\n",
        "def slice_list(lst, start_index, end_index):\n",
        "  try:\n",
        "    return lst[start_index:end_index]\n",
        "  except IndexError:\n",
        "    return \"Invalid indices\"\n",
        "\n",
        "\n",
        "def index_game():\n",
        "    lst = ['apple', 'banana', 'orange', 'grape', 'pineapple']\n",
        "    print(\"Current list:\", lst)\n",
        "    print(\"Choose an operation: access, modify, slice\")\n",
        "    operation = input(\"Enter operation: \")\n",
        "\n",
        "    if operation.lower() == \"access\":\n",
        "        index = int(input(\"Enter index to access: \"))\n",
        "        print(access_elem(lst, index))\n",
        "    elif operation.lower() == \"modify\":\n",
        "        index = int(input(\"Enter index to modify: \"))\n",
        "        new_value = input(\"Enter new value: \")\n",
        "        print(modify_elem(lst, index, new_value))\n",
        "    elif operation.lower() == \"slice\":\n",
        "        start = int(input(\"Enter start index: \"))\n",
        "        end = int(input(\"Enter end index: \"))\n",
        "        print(slice_list(lst, start, end))\n",
        "    else:\n",
        "        print(\"Invalid operation.\")\n",
        "\n",
        "index_game()"
      ],
      "metadata": {
        "colab": {
          "base_uri": "https://localhost:8080/"
        },
        "id": "EQTsKuvJaVyW",
        "outputId": "bf52cb10-2ace-41ad-a14b-95bb5623d6d8"
      },
      "execution_count": 7,
      "outputs": [
        {
          "output_type": "stream",
          "name": "stdout",
          "text": [
            "Current list: ['apple', 'banana', 'orange', 'grape', 'pineapple']\n",
            "Choose an operation: access, modify, slice\n",
            "Enter operation: Slice\n",
            "Enter start index: 1\n",
            "Enter end index: 4\n",
            "['banana', 'orange', 'grape']\n"
          ]
        }
      ]
    }
  ]
}