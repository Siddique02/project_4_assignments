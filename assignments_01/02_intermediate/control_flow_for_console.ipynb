{
  "nbformat": 4,
  "nbformat_minor": 0,
  "metadata": {
    "colab": {
      "provenance": [],
      "authorship_tag": "ABX9TyPa7tOjHE5DxrNWIrpAy4vq",
      "include_colab_link": true
    },
    "kernelspec": {
      "name": "python3",
      "display_name": "Python 3"
    },
    "language_info": {
      "name": "python"
    }
  },
  "cells": [
    {
      "cell_type": "markdown",
      "metadata": {
        "id": "view-in-github",
        "colab_type": "text"
      },
      "source": [
        "<a href=\"https://colab.research.google.com/github/Siddique02/project_4_assignments/blob/main/assignments_01/02_intermediate/control_flow_for_console.ipynb\" target=\"_parent\"><img src=\"https://colab.research.google.com/assets/colab-badge.svg\" alt=\"Open In Colab\"/></a>"
      ]
    },
    {
      "cell_type": "code",
      "execution_count": null,
      "metadata": {
        "id": "5xepiWI514Hi"
      },
      "outputs": [],
      "source": [
        "import random\n",
        "\n",
        "print(\"Welcome to the High-Low Game!\")\n",
        "print(\"------------------------------\")\n",
        "\n",
        "round_number = 1\n",
        "total_rounds = 5\n",
        "round_over = 0\n",
        "player_score = 0\n",
        "computer_score = 0\n",
        "\n",
        "while total_rounds > round_over:\n",
        "  print(\"****************************\")\n",
        "  print(f\"Round {round_number}\")\n",
        "  round_number += 1\n",
        "  total_rounds -= 1\n",
        "  computers_number = random.randint(1, 101)\n",
        "  players_number = random.randint(1, 101)\n",
        "  print(f\"Your number is {players_number}\")\n",
        "  users_guess: str = str(input(\"Do you think your number is higher or lower than computer's? \"))\n",
        "\n",
        "  if computers_number > players_number:\n",
        "    if users_guess == \"lower\":\n",
        "      print(f\"You were right! The computer's number was {computers_number}\")\n",
        "      player_score += 1\n",
        "    elif users_guess == \"higher\":\n",
        "      print(f\"You were wrong! The computer's number was {computers_number}\")\n",
        "      computer_score += 1\n",
        "  elif computers_number < players_number:\n",
        "    if users_guess == \"higher\":\n",
        "      print(f\"You were right! The computer's number was {computers_number}\")\n",
        "      player_score += 1\n",
        "    elif users_guess == \"lower\":\n",
        "      print(f\"You were wrong! The computer's number was {computers_number}\")\n",
        "      computer_score += 1\n",
        "\n",
        "  print(f\"Your score: {player_score}\")\n",
        "  print(f\"Computer's score: {computer_score}\")\n",
        "\n",
        "print(\"*****************Game Over!*****************\")\n",
        "if(player_score > computer_score):\n",
        "  print(\"*****************You won!*****************\")\n",
        "elif(player_score < computer_score):\n",
        "  print(\"*****************You lost!*****************\")"
      ]
    }
  ]
}